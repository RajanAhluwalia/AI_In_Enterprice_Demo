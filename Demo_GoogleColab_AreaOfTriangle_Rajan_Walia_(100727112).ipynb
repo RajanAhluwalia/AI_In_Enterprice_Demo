{
  "nbformat": 4,
  "nbformat_minor": 0,
  "metadata": {
    "colab": {
      "name": "Rajan Walia (100727112).ipynb",
      "provenance": [],
      "authorship_tag": "ABX9TyPxngWqTfZSqQAjseeilREW",
      "include_colab_link": true
    },
    "kernelspec": {
      "name": "python3",
      "display_name": "Python 3"
    }
  },
  "cells": [
    {
      "cell_type": "markdown",
      "metadata": {
        "id": "view-in-github",
        "colab_type": "text"
      },
      "source": [
        "<a href=\"https://colab.research.google.com/github/RajanAhluwalia/AI_In_Enterprice_Demo/blob/master/Demo_GoogleColab_AreaOfTriangle_Rajan_Walia_(100727112).ipynb\" target=\"_parent\"><img src=\"https://colab.research.google.com/assets/colab-badge.svg\" alt=\"Open In Colab\"/></a>"
      ]
    },
    {
      "cell_type": "markdown",
      "metadata": {
        "id": "CSUCYy1g1hbJ",
        "colab_type": "text"
      },
      "source": [
        "## Find the Area of triangle"
      ]
    },
    {
      "cell_type": "code",
      "metadata": {
        "id": "bMSKqbxE1gCp",
        "colab_type": "code",
        "colab": {}
      },
      "source": [
        "a = 9\n",
        "b = 7\n",
        "c = 1"
      ],
      "execution_count": 0,
      "outputs": []
    },
    {
      "cell_type": "code",
      "metadata": {
        "id": "epx3wnlC1jGo",
        "colab_type": "code",
        "colab": {
          "base_uri": "https://localhost:8080/",
          "height": 67
        },
        "outputId": "235585e3-e3ad-4357-98dd-4b982ccad142"
      },
      "source": [
        "a= float(input(\"Enter the first side value\"))\n",
        "b= float(input(\"Enter the Second side value\"))\n",
        "c= float(input(\"Enter the Third side value\"))"
      ],
      "execution_count": 4,
      "outputs": [
        {
          "output_type": "stream",
          "text": [
            "Enter the first side value2\n",
            "Enter the Second side value3\n",
            "Enter the Third side value4\n"
          ],
          "name": "stdout"
        }
      ]
    },
    {
      "cell_type": "code",
      "metadata": {
        "id": "qGxxRdu214qv",
        "colab_type": "code",
        "colab": {}
      },
      "source": [
        "s = (a + b + c) / 2"
      ],
      "execution_count": 0,
      "outputs": []
    },
    {
      "cell_type": "code",
      "metadata": {
        "id": "lGfzbkOs2Gax",
        "colab_type": "code",
        "colab": {
          "base_uri": "https://localhost:8080/",
          "height": 33
        },
        "outputId": "9378339d-0a5d-4828-fa3e-8715cc490a6d"
      },
      "source": [
        "area = (s*(s-a)*(s-b)*(s-c)) ** 0.5\n",
        "print('The area of the triangle is %0.2f' %area)"
      ],
      "execution_count": 6,
      "outputs": [
        {
          "output_type": "stream",
          "text": [
            "The area of the triangle is 2.90\n"
          ],
          "name": "stdout"
        }
      ]
    },
    {
      "cell_type": "code",
      "metadata": {
        "id": "1hdjFrRZ2JzB",
        "colab_type": "code",
        "colab": {}
      },
      "source": [
        ""
      ],
      "execution_count": 0,
      "outputs": []
    }
  ]
}